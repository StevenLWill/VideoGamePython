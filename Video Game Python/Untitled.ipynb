{
 "cells": [
  {
   "cell_type": "code",
   "execution_count": 1,
   "metadata": {},
   "outputs": [],
   "source": [
    "#variable assignment\n",
    "name_of_variable = 'hello world'"
   ]
  },
  {
   "cell_type": "code",
   "execution_count": 2,
   "metadata": {},
   "outputs": [
    {
     "name": "stdout",
     "output_type": "stream",
     "text": [
      "hello world\n"
     ]
    }
   ],
   "source": [
    "#print function\n",
    "print(name_of_variable)"
   ]
  },
  {
   "cell_type": "code",
   "execution_count": 3,
   "metadata": {},
   "outputs": [],
   "source": [
    "# lists use []\n",
    "my_list = ['abc',12,['abc','def']]"
   ]
  },
  {
   "cell_type": "code",
   "execution_count": 4,
   "metadata": {},
   "outputs": [
    {
     "name": "stdout",
     "output_type": "stream",
     "text": [
      "['abc', 12, ['abc', 'def']]\n"
     ]
    }
   ],
   "source": [
    "print(my_list)"
   ]
  },
  {
   "cell_type": "code",
   "execution_count": 7,
   "metadata": {},
   "outputs": [
    {
     "name": "stdout",
     "output_type": "stream",
     "text": [
      "abc\n",
      "def\n"
     ]
    }
   ],
   "source": [
    "#lists are index based\n",
    "print(my_list[0])\n",
    "#nested list uses multiple indexes\n",
    "print(my_list[2][1])"
   ]
  },
  {
   "cell_type": "code",
   "execution_count": 8,
   "metadata": {},
   "outputs": [],
   "source": [
    "#use .append to add items to a list\n",
    "my_list.append(77)"
   ]
  },
  {
   "cell_type": "code",
   "execution_count": 12,
   "metadata": {},
   "outputs": [
    {
     "data": {
      "text/plain": [
       "['abc', 12, ['abc', 'def', 'hij', 'hij', 'klm'], 77]"
      ]
     },
     "execution_count": 12,
     "metadata": {},
     "output_type": "execute_result"
    }
   ],
   "source": [
    "my_list[2].append('klm')\n",
    "my_list"
   ]
  },
  {
   "cell_type": "code",
   "execution_count": 14,
   "metadata": {},
   "outputs": [
    {
     "name": "stdout",
     "output_type": "stream",
     "text": [
      "5\n",
      "3\n",
      "2\n"
     ]
    }
   ],
   "source": [
    "x = 5\n",
    "y = 3\n",
    "z = 2\n",
    "print(x)\n",
    "print(y)\n",
    "print(z)"
   ]
  },
  {
   "cell_type": "code",
   "execution_count": 15,
   "metadata": {},
   "outputs": [],
   "source": [
    "#dictionaries use {} and are key:value pairs\n",
    "my_dict = {'a':'hello world',\n",
    "          'b':'bye bye',\n",
    "          'c':'go blue'}"
   ]
  },
  {
   "cell_type": "code",
   "execution_count": 16,
   "metadata": {},
   "outputs": [
    {
     "data": {
      "text/plain": [
       "'go blue'"
      ]
     },
     "execution_count": 16,
     "metadata": {},
     "output_type": "execute_result"
    }
   ],
   "source": [
    "my_dict['c']"
   ]
  },
  {
   "cell_type": "code",
   "execution_count": 17,
   "metadata": {},
   "outputs": [],
   "source": [
    "#add key value pair to dictionary\n",
    "my_dict['d'] = 'UNCC'"
   ]
  },
  {
   "cell_type": "code",
   "execution_count": 18,
   "metadata": {},
   "outputs": [
    {
     "data": {
      "text/plain": [
       "{'a': 'hello world', 'b': 'bye bye', 'c': 'go blue', 'd': 'UNCC'}"
      ]
     },
     "execution_count": 18,
     "metadata": {},
     "output_type": "execute_result"
    }
   ],
   "source": [
    "my_dict"
   ]
  },
  {
   "cell_type": "code",
   "execution_count": 19,
   "metadata": {},
   "outputs": [],
   "source": [
    "#use notation above to overwrite values\n",
    "my_dict['a'] = 'Go Niners'"
   ]
  },
  {
   "cell_type": "code",
   "execution_count": 20,
   "metadata": {},
   "outputs": [
    {
     "data": {
      "text/plain": [
       "{'a': 'Go Niners', 'b': 'bye bye', 'c': 'go blue', 'd': 'UNCC'}"
      ]
     },
     "execution_count": 20,
     "metadata": {},
     "output_type": "execute_result"
    }
   ],
   "source": [
    "my_dict"
   ]
  },
  {
   "cell_type": "code",
   "execution_count": 21,
   "metadata": {},
   "outputs": [],
   "source": [
    "# sets and tuples (for you to research on your own [not needed tonight])"
   ]
  },
  {
   "cell_type": "code",
   "execution_count": 26,
   "metadata": {},
   "outputs": [
    {
     "name": "stdout",
     "output_type": "stream",
     "text": [
      "x is greater than 5\n"
     ]
    }
   ],
   "source": [
    "#conditionals (i.e. if then)\n",
    "x = 6\n",
    "y = 3\n",
    "if x > 5:\n",
    "    #do stuff\n",
    "    print('x is greater than 5')\n",
    "    if y > 5:\n",
    "        print('y is also greater than 5')\n",
    "elif y > x:\n",
    "    #do other stuff\n",
    "    print('y is greater than x')\n",
    "else:\n",
    "    print('Nothing else is true')\n"
   ]
  },
  {
   "cell_type": "code",
   "execution_count": 33,
   "metadata": {},
   "outputs": [
    {
     "name": "stdout",
     "output_type": "stream",
     "text": [
      "neither is true\n"
     ]
    }
   ],
   "source": [
    "# ands & ors  and = all arguments are true; or = one argument is true\n",
    "x = 10\n",
    "y = 9\n",
    "#        false                   true\n",
    "if (x > 5 and y > 99) and (x > 1 and y > 1):\n",
    "    print('one is true')\n",
    "else:\n",
    "    print('neither is true')\n"
   ]
  },
  {
   "cell_type": "code",
   "execution_count": 41,
   "metadata": {},
   "outputs": [
    {
     "name": "stdout",
     "output_type": "stream",
     "text": [
      "a\n",
      "b\n",
      "c\n",
      "d\n"
     ]
    }
   ],
   "source": [
    "#for loop iterates (i) on an iterable dataset like a list or string\n",
    "my_list = ['a','b','c','d']\n",
    "#              0 - 4 (last number is not included)\n",
    "for i in my_list:\n",
    "    # do stuff to i or with i\n",
    "    print(f'{i}')"
   ]
  },
  {
   "cell_type": "code",
   "execution_count": 44,
   "metadata": {},
   "outputs": [
    {
     "name": "stdout",
     "output_type": "stream",
     "text": [
      "hello!!!\n",
      "Would you like to continue?no\n",
      "hello!!!\n",
      "Would you like to continue?no\n",
      "hello!!!\n",
      "Would you like to continue?no\n",
      "hello!!!\n",
      "Would you like to continue?YeS\n"
     ]
    }
   ],
   "source": [
    "#while loop continues until some condition is false (keep going while the condition is true)\n",
    "\n",
    "cont = True\n",
    "\n",
    "while cont:\n",
    "    print('hello!!!')\n",
    "    \n",
    "    answer = input('Would you like to continue?').upper() #.upper capitalizes all letters\n",
    "    \n",
    "    if answer == 'YES':\n",
    "        cont = False\n"
   ]
  },
  {
   "cell_type": "code",
   "execution_count": null,
   "metadata": {},
   "outputs": [],
   "source": []
  }
 ],
 "metadata": {
  "kernelspec": {
   "display_name": "Python 3",
   "language": "python",
   "name": "python3"
  },
  "language_info": {
   "codemirror_mode": {
    "name": "ipython",
    "version": 3
   },
   "file_extension": ".py",
   "mimetype": "text/x-python",
   "name": "python",
   "nbconvert_exporter": "python",
   "pygments_lexer": "ipython3",
   "version": "3.7.4"
  }
 },
 "nbformat": 4,
 "nbformat_minor": 2
}
