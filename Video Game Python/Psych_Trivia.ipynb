{
 "cells": [
  {
   "cell_type": "code",
   "execution_count": 1,
   "metadata": {},
   "outputs": [],
   "source": [
    "import random"
   ]
  },
  {
   "cell_type": "code",
   "execution_count": 2,
   "metadata": {},
   "outputs": [],
   "source": [
    "questions_path = 'Trivia Game/MCQ/Psychology.txt'"
   ]
  },
  {
   "cell_type": "code",
   "execution_count": 3,
   "metadata": {},
   "outputs": [],
   "source": [
    "file1= open(questions_path,\"r\",encoding=\"utf-8\")\n",
    "questions_answers = {}\n",
    "questions_options = {}\n",
    "# Using readlines() \n",
    "Lines = file1.readlines() \n",
    "count = 0\n",
    "# Strips the newline character \n",
    "for line in Lines:\n",
    "    if not line[0].isdigit() and line[0].isalpha():\n",
    "        #print(f'Question: {line.strip()}') \n",
    "        questions_answers[line.strip()] = []\n",
    "        questions_options[line.strip()] = []\n",
    "        q = line.strip()\n",
    "        #print(q)\n",
    "    elif line[0].isdigit():\n",
    "        #print(f'Option: {line.strip()[1:]}')\n",
    "        questions_answers[q].append(line.strip())\n",
    "        questions_options[q].append(line.strip()[1:])\n",
    "  #  print(\"Line{}: {}\".format(count, line.strip())) \n",
    "    "
   ]
  },
  {
   "cell_type": "code",
   "execution_count": 4,
   "metadata": {},
   "outputs": [
    {
     "data": {
      "text/plain": [
       "1432"
      ]
     },
     "execution_count": 4,
     "metadata": {},
     "output_type": "execute_result"
    }
   ],
   "source": [
    "#questions_list = list(questions_answers)\n",
    "#len(questions_list)"
   ]
  },
  {
   "cell_type": "code",
   "execution_count": 5,
   "metadata": {},
   "outputs": [
    {
     "name": "stdout",
     "output_type": "stream",
     "text": [
      "A rat learns to push a button in order to turn on a tone previously associated with food. The button pushing has been rewarded by a(n) __________ reinforcer.\n",
      "\n",
      "A:  unconditioned\n",
      "B:  primary\n",
      "C:  secondary\n",
      "D:  generalized\n",
      "Choose the letter of the answer you think is correct: a\n",
      "You chose A\n",
      "Sorry the correct answer was C\n",
      "Would you like to play again? yes\n",
      "\n",
      "-----------------------------\n",
      "\n",
      "In the traditional learning experiment, the effect of practice on performance is investigated. Performance is the __________ variable.\n",
      "\n",
      "A:  independent\n",
      "B:  extraneous\n",
      "C:  dependent\n",
      "D:  control\n",
      "Choose the letter of the answer you think is correct: c\n",
      "You chose C\n",
      "Correct!\n",
      "Would you like to play again? yes\n",
      "\n",
      "-----------------------------\n",
      "\n",
      "Which of the following is a dissociative disorder?\n",
      "\n",
      "A:  depression\n",
      "B:  phobic disorder\n",
      "C:  multiple personality\n",
      "D:  paranoia\n",
      "Choose the letter of the answer you think is correct: d\n",
      "You chose D\n",
      "Sorry the correct answer was C\n",
      "Would you like to play again? no\n",
      "\n",
      "-----------------------------\n",
      "\n"
     ]
    }
   ],
   "source": [
    "still_playing = 'YES'\n",
    "while still_playing == 'YES':\n",
    "    options = ['A','B','C','D','E','F','G','H']\n",
    "    option_dict = {}\n",
    "    qn = random.randint(1,len(questions_list))\n",
    "    question = questions_list[qn]\n",
    "    print(question + '\\n')\n",
    "    for i in range(len(questions_answers[question])):\n",
    "        print(f'{options[i]}: {questions_options[question][i]}')\n",
    "        option_dict[options[i]] = questions_answers[question][i][:1]\n",
    "    #print(option_dict)\n",
    "    answer = input('Choose the letter of the answer you think is correct: ').upper()\n",
    "    print(f'You chose {answer}')\n",
    "    #print(option_dict[answer])\n",
    "    if option_dict[answer] == '1':\n",
    "        print('Correct!')\n",
    "    else:\n",
    "        for key, value in option_dict.items():\n",
    "            #print(value)\n",
    "            if value == '1':\n",
    "                print(f'Sorry the correct answer was {key}')\n",
    "                \n",
    "    still_playing = input('Would you like to play again? ').upper()\n",
    "    print('\\n-----------------------------\\n')\n",
    "                "
   ]
  },
  {
   "cell_type": "code",
   "execution_count": null,
   "metadata": {},
   "outputs": [],
   "source": []
  },
  {
   "cell_type": "code",
   "execution_count": null,
   "metadata": {},
   "outputs": [],
   "source": []
  },
  {
   "cell_type": "code",
   "execution_count": null,
   "metadata": {},
   "outputs": [],
   "source": []
  }
 ],
 "metadata": {
  "kernelspec": {
   "display_name": "Python 3",
   "language": "python",
   "name": "python3"
  },
  "language_info": {
   "codemirror_mode": {
    "name": "ipython",
    "version": 3
   },
   "file_extension": ".py",
   "mimetype": "text/x-python",
   "name": "python",
   "nbconvert_exporter": "python",
   "pygments_lexer": "ipython3",
   "version": "3.7.4"
  }
 },
 "nbformat": 4,
 "nbformat_minor": 2
}
